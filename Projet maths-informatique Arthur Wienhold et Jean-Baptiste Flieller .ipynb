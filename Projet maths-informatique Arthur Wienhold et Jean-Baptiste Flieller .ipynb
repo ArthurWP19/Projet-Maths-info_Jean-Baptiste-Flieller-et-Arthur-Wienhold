{
 "cells": [
  {
   "cell_type": "markdown",
   "metadata": {},
   "source": [
    "# Projet maths-informatique octobre 2019: Jean-Baptiste Flieller et Arthur Wienhold"
   ]
  },
  {
   "cell_type": "code",
   "execution_count": null,
   "metadata": {},
   "outputs": [],
   "source": [
    "import autograd                       #prérequis au niveau de l'environement\n",
    "from autograd import numpy as np\n",
    "import matplotlib.pyplot as plt\n",
    "from math import *\n"
   ]
  },
  {
   "cell_type": "markdown",
   "metadata": {},
   "source": [
    "L'objectif de ce projet était le tracé informatique de lignes de niveaux.\n",
    "Plus précisement, l'utilisateur saisit  f une fonction de deux variables à valeurs réelles, continuement différenciable, et le programme doit pouvoir représenter sur un graphique l'ensemble {(x,y), f(x,y)=c} avec c un réel donné en argument.\n",
    " Nous chercherons par plusieurs approches à remplir cette mission, avec deux contraintes principales:\n",
    " - Le temps de calcul qui ne doit pas excéder une durée d'attente raisonnable, compte tenu cependant de la complexité de la fonction à tracer, nous y renviendrons\n",
    " - La précision de la courbe rendue, qui là encore est soumis à la contrainte ci-dessus, ainsi qu'à la fonction.\n",
    " "
   ]
  },
  {
   "cell_type": "markdown",
   "metadata": {},
   "source": [
    "Deux approches ont été envisagées, l'une naïve et l'autre plus élaborée, mais toutes deux reposent sur une méthode commune: le pavage de l'espace: on subdivise le plan en carrés de tailles égales, dont le côté sera un argument donné par l'utilisateur stocké dans la variable taille_cell, valant par défaut . Un carré sera par ailleurs repéré dans l'espace par les coordonnées de son coin inférieur gauche.\n"
   ]
  },
  {
   "cell_type": "markdown",
   "metadata": {},
   "source": [
    "# Une première approche naïve: une approche par dichotomie uniquement."
   ]
  },
  {
   "cell_type": "markdown",
   "metadata": {},
   "source": [
    "Le principe global de cette méthode est le suivant: nous subdivisons chaque carré en 10 \"tranches\" de largeur (abscisses) 0.1taille_cell et de hauteur taille_cell.\n",
    "Puis, sur chacune des colonnes, nous appliquons un algorithme de dichotomie à la fonction g qui, pour une abscisse abs_x fixée, donne à y f(abs_x,y)-c. Nous trouvons alors un point de la ligne de niveau, si il existe, sur chacune des colonnes, puis on relie tous ces points, \"dans bon ordre\", à la fin.\n"
   ]
  },
  {
   "cell_type": "code",
   "execution_count": null,
   "metadata": {},
   "outputs": [],
   "source": [
    "def find_seed_vnaive(f, c=0.5, x=0, eps=2**(-26)):\n",
    "    def g(x,y):     # nous voulons résoudre f(x,y)-c=0, nous créons donc la fonction g=f-c\n",
    "        return f(x,y)-c\n",
    "    if g(x,0)*g(x,1)>0:   #nous testons s'il existe raisonnablement un tel y par théorème des valeurs intermédiaires\n",
    "        return None\n",
    "    ymin=0\n",
    "    ymax=1\n",
    "    while abs(g(x,ymin)-g(x,ymax))>eps:  #nous effectuons une dichotomie sur une colonne à x fixé\n",
    "        ymil=(ymin+ymax)/2               #nous stoppons l'algo avec la précision souhaitée\n",
    "        if g(x,ymil)*g(x,ymin)>0:\n",
    "            ymin=ymil\n",
    "        else:\n",
    "            ymax=ymil\n",
    "    return (ymin+ymax)/2\n"
   ]
  },
  {
   "cell_type": "markdown",
   "metadata": {},
   "source": [
    "On notera que le succès de l'algorithme de dichotomie, qui nécessite la présence d'une fonction monotone et assez régulière sur la colonne avec un zéro unique, repose sur un pavage assez fin du plan pour que localement les lignes de niveaux puissent être approximées par des segments. Cependant, plus le pavage est fin, plus on doit faire de calculs, il faut donc trouver un compromis lors de l'utilisation du programme. "
   ]
  },
  {
   "cell_type": "code",
   "execution_count": null,
   "metadata": {},
   "outputs": [],
   "source": [
    "def simple_contour(f, c=0.5, delta=0.01): # dans sa version naive, il suffit d'effectuer un find_seed en changeant l'abscisse x\n",
    "    X=[0]                                 # en le déplaçant de delta à  chaque itération\n",
    "    Y=[find_seed_vnaive(f, c=c)]\n",
    "    if Y[0]==None:\n",
    "        return [],[]\n",
    "    \n",
    "    n=int(1//delta)\n",
    "    for k in range(1,n+2):            #nous effectuons n+1 itérations\n",
    "        A=find_seed_vnaive(f, c=c, x=X[-1])\n",
    "        if not A==None:\n",
    "            X.append(X[-1]+delta)\n",
    "            Y.append(A)      \n",
    "    return np.array(X), np.array(Y)"
   ]
  },
  {
   "cell_type": "code",
   "execution_count": null,
   "metadata": {},
   "outputs": [],
   "source": [
    "def f(x,y):\n",
    "    return 2*(np.exp(-x**2-y**2)-np.exp(-(x-1)**2-(y-1)**2))   #la fonction que nous utilisons pour les test\n",
    "\n",
    "X,Y=simple_contour(f)  #nous effectuons un test sur un morceau de la fonction restreint [0,1]**2\n",
    "\n",
    "plt.plot(X,Y)\n",
    "plt.show()"
   ]
  },
  {
   "cell_type": "markdown",
   "metadata": {},
   "source": [
    "Puis, on généralise le tracé à tout le plan en faisant des tracés dans chaque cellule, en faisant \"tourner\" les cellules de façon à conserver une fonction contour simple dont la graine, si elle existe, est dans sur le côté gauche du carré."
   ]
  },
  {
   "cell_type": "code",
   "execution_count": null,
   "metadata": {},
   "outputs": [],
   "source": [
    "LEFT, UP, RIGHT, DOWN = 0, 1, 2, 3  # clockwise\n",
    "\n",
    "\n",
    "def rotate_direction(direction, n=1):\n",
    "    return (direction + n) % 4\n",
    "\n",
    "\n",
    "def rotate(x, y, n=1):\n",
    "    if n == 0:\n",
    "        return x, y\n",
    "    elif n >= 1:\n",
    "        return rotate(1 - y, x, n - 1)\n",
    "    else:\n",
    "        assert n < 0\n",
    "        return rotate(x, y, n=-3 * n)\n",
    "\n",
    "\n",
    "def rotate_function(f, n=1):\n",
    "    def rotated_function(x, y):\n",
    "        xr, yr = rotate(x, y, -n)\n",
    "        return f(xr, yr)\n",
    "\n",
    "    return rotated_function\n",
    "\n",
    "\n",
    "# Complex Contouring\n",
    "# ------------------------------------------------------------------------------\n",
    "\n",
    "# Customize the simple_contour function used in contour :\n",
    "# simple_contour = smart_simple_contour\n",
    "\n",
    "\n",
    "def contour(f, c, xs=[0.0, 1.0], ys=[0.0, 1.0], delta=0.01):\n",
    "    curves = []\n",
    "    nx, ny = len(xs), len(ys)\n",
    "    for i in range(nx - 1):\n",
    "        for j in range(ny - 1):\n",
    "            xmin, xmax = xs[i], xs[i + 1]\n",
    "            ymin, ymax = ys[j], ys[j + 1]\n",
    "\n",
    "            def f_cell(x, y):\n",
    "                return f(xmin + (xmax - xmin) * x, ymin + (ymax - ymin) * y)\n",
    "\n",
    "            done = set()\n",
    "            for n in [0, 1, 2, 3]:\n",
    "                if n not in done:\n",
    "                    rotated_f_cell = rotate_function(f_cell, n)\n",
    "                    x_curve_r, y_curve_r = simple_contour(rotated_f_cell, c, delta)\n",
    "                   \n",
    "                    \n",
    "                    exit = None\n",
    "                    if len(x_curve_r) >= 1:\n",
    "                        xf, yf = x_curve_r[-1], y_curve_r[-1]\n",
    "                        if xf == 0.0:\n",
    "                            exit = LEFT\n",
    "                        elif xf == 1.0:\n",
    "                            exit = RIGHT\n",
    "                        elif yf == 0.0:\n",
    "                            exit = DOWN\n",
    "                        elif yf == 1.0:\n",
    "                            exit = UP\n",
    "                    if exit is not None:  # a fully successful contour fragment\n",
    "                        exit = rotate_direction(exit, n)\n",
    "                        done.add(exit)\n",
    "                    \n",
    "\n",
    "                    x_curve, y_curve = [], []\n",
    "                    for x_r, y_r in zip(x_curve_r, y_curve_r):\n",
    "                        x, y = rotate(x_r, y_r, n=-n)\n",
    "                        x_curve.append(x)\n",
    "                        y_curve.append(y)\n",
    "                   \n",
    "                    x_curve = np.array(x_curve)\n",
    "                    y_curve = np.array(y_curve)\n",
    "                    \n",
    "                    curves.append((xmin + (xmax - xmin) * x_curve, ymin + (ymax - ymin) * y_curve))\n",
    "    return curves\n",
    "        \n"
   ]
  },
  {
   "cell_type": "code",
   "execution_count": null,
   "metadata": {},
   "outputs": [],
   "source": [
    "def decoupe(a, b, d): # nous écrivons une fonction qui forme des listes d'entiers allant de a à  b et espace de d\n",
    "    L=[]\n",
    "    n=int((b-a)//d)\n",
    "    for k in range(n+2):\n",
    "        L.append(a+k*d)\n",
    "    return L\n",
    "\n",
    "Xs=decoupe(-2, 3, 0.2)\n",
    "Ys=decoupe(-1, 2, 0.2)\n",
    "for i in range(7):\n",
    "    level_curves = contour(f, c= -1.5+i/2, xs=Xs, ys=Ys)\n",
    "    for x, y in level_curves:   # nous affichons l'ensemble des courbes obtenues avec la version naïve\n",
    "        plt.plot(x, y, 'm')\n",
    "#le calcul va prendre 2-3 minutes..."
   ]
  },
  {
   "cell_type": "markdown",
   "metadata": {},
   "source": [
    "On constate donc que cette méthode, bien que rudimentaire, propose des résultats satisfaisants, mais avec une quantité gigantesque de calculs, et une approche assez rudimentaire. Cherchons donc une solution plus avancée, aussi bien sur le plan mathématique et informatique"
   ]
  },
  {
   "cell_type": "markdown",
   "metadata": {},
   "source": [
    "#                                         Méthode de Newton "
   ]
  },
  {
   "cell_type": "markdown",
   "metadata": {},
   "source": [
    "\n",
    "Principe: on pave l'espace, et on va comme dans la première méthode trouver un point de la courbe de niveau sur le côté gauche du carré.\n",
    "Puis, on cherche à tracer le segment de courbe de niveau, si il existe, contenu dans le carré, les points étant séparé d'environ delta, avec delta=01taille_cell\n",
    "Le principe est le suivant: on définit la fonction F qui à (x,y) donne (f(x,y)-c, distance((x,y),(w,z))^2-delta^2) avec (w,z) un point de la ligne de niveau déjà trouvé, en argument de la fonction F.\n",
    "Le but est de trouver un zéro à cette fonction: un point de la ligne de niveau à une distance delta du précédent."
   ]
  },
  {
   "cell_type": "markdown",
   "metadata": {},
   "source": [
    "## Explication mathématique "
   ]
  },
  {
   "cell_type": "markdown",
   "metadata": {},
   "source": [
    "Nous définissons Fx et Fy les composantes en x et y de F\n",
    " \n",
    "Un developpement limité au premier ordre donne, avec (x0,y0) un point du plan: \n",
    "\n",
    "$ F_x(x,y) = F_x(x_0,y_0)+ \\frac{\\partial F_x}{\\partial x}(x_0,y_0)(x-x_0) + \\frac{\\partial F_x}{\\partial y}(x_0,y_0)(y-y_0) + o(x-x_0,y-y_0)$\n",
    "\n",
    "$ F_y(x,y) = F_y(x_0,y_0)+ \\frac{\\partial F_y}{\\partial x}(x_0,y_0)(x-x_0) + \\frac{\\partial F_y}{\\partial y}(x_0,y_0)(y-y_0) + o(x-x_0,y-y_0)$\n",
    "\n",
    "Nous conserverons cette approximation.\n",
    "\n",
    "Si on veut converger vers un point (x,y) qui annule F, nous tirons des deux lignes précédentes une relation: \n",
    "\n",
    "$\\begin{pmatrix}\n",
    "- F_x(x_0,y_0) \\\\\n",
    "- F_y(x_0,y_0)\n",
    "\\end{pmatrix}\n",
    "= J(x_0,y_0)\n",
    "\\begin{pmatrix}\n",
    "x_1 - x_0\\\\\n",
    "y_1-y_0\n",
    "\\end{pmatrix}\n",
    "$\n",
    "\n",
    "Puis par récurrence, nous obtenons la formule de l'algorithme de Newton généralisée en dimension 2:\n",
    "\n",
    "$\\begin{pmatrix}\n",
    "x_{n+1}\\\\\n",
    "y_{n+1}\n",
    "\\end{pmatrix}\n",
    "=\n",
    "\\begin{pmatrix}\n",
    "x_{n}\\\\\n",
    "y_{n}\n",
    "\\end{pmatrix}\n",
    "- J^{-1}(x_n,y_n)\n",
    "\\begin{pmatrix}\n",
    "F_x(x_n,y_n)\\\\\n",
    "F_y(x_n,y_n)\n",
    "\\end{pmatrix}\n",
    "$\n",
    "\n"
   ]
  },
  {
   "cell_type": "markdown",
   "metadata": {},
   "source": [
    "## Partie informatique"
   ]
  },
  {
   "cell_type": "markdown",
   "metadata": {},
   "source": [
    "Préambule:\n",
    "  - Dans un premier temps, le lecteur peut ignorer l'argument \"side\" dans les fonctions qui ne sera utilisé que pour le contour_complexe. Qu'il le considère égal à 1 (ce qui sera sa valeur par défaut dans contour simple) pour l'instant.\n",
    "  - La partie contour complexe de cette méthode n'aboutit pas malgré un temps très conséquent passé dessus, nous y reviendrons après contour_simple. Cependant, nous avons laissé en place tous les outils qui devaient la faire fonctionner, d'où les arguments side."
   ]
  },
  {
   "cell_type": "markdown",
   "metadata": {},
   "source": [
    "Notre méthode va être la suivante: on trouve une seed sur le côté gauche du carré, puis pour trouver un nouveaux point, on \"saute\" dans la direction de la ligne de niveau, qui est orthogonale au gradient, puis on corrige l'erreur avec l'algorithme de Newton"
   ]
  },
  {
   "cell_type": "code",
   "execution_count": null,
   "metadata": {},
   "outputs": [],
   "source": [
    "def find_seed_side(f, c=0.5, abs_x=0, ord_y=0,taille_cell=(1,1), eps=2**(-26)):\n",
    "    def g(x,y):     \n",
    "        return f(x,y)-c\n",
    "    if g(abs_x,ord_y)*g(abs_x,ord_y+taille_cell[1])>0:   \n",
    "        return None\n",
    "    ymin=ord_y\n",
    "    ymax=ord_y+1\n",
    "    while abs(g(abs_x,ymin)-g(abs_x,ymax))>eps:  \n",
    "        ymil=(ymin+ymax)/2               \n",
    "        if g(abs_x,ymil)*g(abs_x,ymin)>0:\n",
    "            ymin=ymil\n",
    "        else:\n",
    "            ymax=ymil\n",
    "    return (ymin+ymax)/2\n",
    "    \n",
    "#inutiles dans la version contour_simples, ces deux fonctions permettent de trouver une seed sur n'importe quel côté du carré\n",
    "def find_seed_x(f, c=0.5, abs_x=0, ord_y=0,taille_cell=(1,1), eps=2**(-26)):\n",
    "    def g(x,y):     \n",
    "        return f(x,y)-c\n",
    "    if g(abs_x,ord_y)*g(abs_x+taille_cell[0],ord_y)>0:   \n",
    "        return None\n",
    "    xmin=abs_x\n",
    "    xmax=abs_x+1\n",
    "    while abs(g(xmin,ord_y)-g(xmax,ord_y))>eps:  \n",
    "        xmil=(xmin+xmax)/2               \n",
    "        if g(xmil,ord_y)*g(xmin,ord_y)>0:\n",
    "            xmin=xmil\n",
    "        else:\n",
    "            xmax=xmil\n",
    "    return (xmin+xmax)/2\n",
    "\n",
    "\n",
    "\n",
    "\n",
    "\n",
    "def find_seed_side(f,c,abs_x,ord_y,taille_cell,eps,side=1):\n",
    "    if side==1:\n",
    "        return find_seed(f,c,abs_x,ord_y,taille_cell,eps)\n",
    "    elif side==2:\n",
    "        return find_seed_x(f,c,abs_x,ord_y,taille_cell,eps)  #le côté gauche est side=1, puis on tourne dans le sens trigo\n",
    "    elif side==3:\n",
    "        return find_seed(f,c,abs_x+taille_cell[0],ord_y,taille_cell,eps)\n",
    "    else:\n",
    "        return find_seed_x(f,c,abs_x,ord_y+taille_cell[1],taille_cell,eps)\n",
    "    "
   ]
  },
  {
   "cell_type": "code",
   "execution_count": null,
   "metadata": {},
   "outputs": [],
   "source": [
    "#donne le gradient de f au point (x,y)\n",
    "def grad(f,x,y):\n",
    "    g=autograd.grad\n",
    "    return np.array([g(f,0)(x,y),g(f,1)(x,y)])\n",
    "\n",
    "\n",
    "#On construit la jacobienne de F en un point (x,y)\n",
    "\n",
    "    \n",
    "def Jacobienne_F(f,x,y):\n",
    "    j=autograd.jacobian\n",
    "    return np.c_[j(f,0)(x,y),j(f,1)(x,y)]\n",
    "\n",
    "\n",
    "def prod_scalaire(a,b):\n",
    "    return a[0]*b[1]+a[1]*b[0]\n",
    "\n",
    "#retourne un vecteur, de norme delta, orthogonal au gradient de f en (x,y), donc tangent à la ligne de niveau de f en (x,y)\n",
    "def tang_norm(f,x,y,delta=0.01):\n",
    "    g=autograd.grad\n",
    "    normed=delta/((g(f,0)(x,y)**2+g(f,1)(x,y)**2)**(0.5))\n",
    "    return np.r_[g(f,1)(x,y)*normed,-g(f,0)(x,y)*normed]\n",
    "\n",
    "\n",
    "\n",
    "    \n",
    "#Trouve le point suivant, partant de (xi,yi)  \n",
    "\n",
    "def trouve_suivant(f,xi,yi,d,c,eps):\n",
    "\n",
    "    def F(x,y):\n",
    "        return np.array([f(x,y)-c,(x-xi)**2+(y-yi)**2-d**2])\n",
    "\n",
    "    (x,y)=(xi,yi)+tang_norm(f,xi,yi,d)\n",
    "\n",
    "    compteur=0      #compte le nombre d'itérations, ce qui rajoute une sécurité sur l'arrêt de la boucle\n",
    "\n",
    "    while F(x,y)[0]**2+F(x,y)[1]**2 > eps**2 and compteur<100000:\n",
    "        J=Jacobienne_F(F,x,y)\n",
    "        try:\n",
    "            (x,y)=(x,y)-np.dot(np.linalg.inv(J),F(x,y))\n",
    "        except np.linalg.LinAlgError :\n",
    "            return (x,y)\n",
    "        compteur+=1\n",
    "\n",
    "    return (x,y)\n"
   ]
  },
  {
   "cell_type": "markdown",
   "metadata": {},
   "source": [
    "Nous sommes maintenant prêts à mettre en place le programme qui tracera le segment de ligne dans le carré. Notons que ce programme s'arretera quand on sera proche des côtés haut, droite et bas de la cellule : on part de sur le côté gauche, et l'on suppose que le découpage du plan est suffisament fin pourque la ligne de niveau de f ne coupe qu'une seule fois ce côté."
   ]
  },
  {
   "cell_type": "markdown",
   "metadata": {},
   "source": [
    "Notons aussi qu'au départ du côté gauche du carré, il faut faire le saut vers l'intérieur de la cellule, d'où ces petits programmes spécifiques à la première recherche (encore une fois, ignorons pour l'instant le paramètre side qui vaut 1 par défaut dans simple_contour, on regarde donc le côté gauche)."
   ]
  },
  {
   "cell_type": "code",
   "execution_count": null,
   "metadata": {},
   "outputs": [],
   "source": [
    "def normalise_dim2(vecteur):\n",
    "    norme=sqrt(vecteur[1]**2+vecteur[0]**2) \n",
    "    return (1/norme)*vecteur\n",
    "\n",
    "def choose_direction_init_side(f,x,y,side):\n",
    "    direction=normalise_dim2(np.array([-grad(f,x,y)[1],grad(f,x,y)[0]]))\n",
    "    if side==1:\n",
    "        if direction[0]>=0:\n",
    "            return direction\n",
    "        else:\n",
    "            return -direction\n",
    "    if side==3:\n",
    "        if direction[0]<=0:\n",
    "            return direction\n",
    "        else:\n",
    "            return -direction\n",
    "    if side==2:\n",
    "        if direction[1]>=0:\n",
    "            return direction\n",
    "        else:\n",
    "            return -direction\n",
    "    else:\n",
    "        if direction[1]<=0:\n",
    "            return direction\n",
    "        else:\n",
    "            return -direction\n",
    "\n",
    "    \n",
    "def trouve_suivant_init_side(f,xi,yi,d,c,side,eps):\n",
    "\n",
    "    def F(x,y):\n",
    "        return np.array([f(x,y)-c,(x-xi)**2+(y-yi)**2-d**2])\n",
    "\n",
    "    (x,y)=(xi,yi)+choose_direction_init_side(f,xi,yi,side)*d       #le seul changement est qu'on utilise ce \"saut\"\n",
    "\n",
    "\n",
    "    compteur=0 \n",
    "\n",
    "    while F(x,y)[0]**2+F(x,y)[1]**2 > eps**2 and compteur<1000:\n",
    "        J=Jacobienne_F(F,x,y)\n",
    "        try:\n",
    "            (x,y)=(x,y)-np.dot(np.linalg.inv(J),F(x,y))\n",
    "        except np.linalg.LinAlgError :\n",
    "            return (x,y)\n",
    "        compteur+=14\n",
    "    return (x,y)"
   ]
  },
  {
   "cell_type": "code",
   "execution_count": null,
   "metadata": {},
   "outputs": [],
   "source": [
    "def simple_contour_side(f,abs_x,ord_y,c=0.0,side=1,taille_cell=(1,1),eps=2**(-26)):\n",
    "    d=0.01*taille_cell[0]\n",
    "    X,Y=np.array([]),np.array([])\n",
    "    if side==1 or side==3:\n",
    "        start_y=find_seed_side(f,c,abs_x,ord_y,taille_cell,eps,side)\n",
    "        start_x=abs_x\n",
    "\n",
    "    else:\n",
    "        start_x=find_seed_side(f,c,abs_x,ord_y,taille_cell,eps,side)\n",
    "        start_y=ord_y\n",
    "\n",
    "\n",
    "    if isinstance(start_y,float) and isinstance(start_x,float):\n",
    "        X=np.append(X,start_x)\n",
    "        Y=np.append(Y,start_y)\n",
    "        (xi,yi)=trouve_suivant_init_side(f,start_x,start_y,d,c,side,eps)\n",
    "        X=np.append(X,xi)\n",
    "        Y=np.append(Y,yi)\n",
    "\n",
    "\n",
    "        compteur=0\n",
    "        while xi>eps+abs_x and (abs_x+taille_cell[0]-eps)>xi and yi>eps+ord_y and (ord_y+taille_cell[1]-eps)>yi and compteur <1000:\n",
    "            (xi,yi)=trouve_suivant(f,xi,yi,d,c,eps)\n",
    "            X=np.append(X,xi)\n",
    "            Y=np.append(Y,yi)\n",
    "            compteur+=1\n",
    "              #plt.plot(X,Y)\n",
    "              #plt.show()\n",
    "        return (X,Y)\n",
    "    \n",
    "    else:\n",
    "        return (X,X)"
   ]
  },
  {
   "cell_type": "code",
   "execution_count": null,
   "metadata": {},
   "outputs": [],
   "source": [
    "def cercle(x,y):\n",
    "    return x**2+y**2\n",
    "\n",
    "simple_contour_side(cercle,-0.3,0.,0.5,1)\n"
   ]
  },
  {
   "cell_type": "code",
   "execution_count": null,
   "metadata": {},
   "outputs": [],
   "source": []
  },
  {
   "cell_type": "markdown",
   "metadata": {},
   "source": [
    "### Partie contour complexe"
   ]
  },
  {
   "cell_type": "markdown",
   "metadata": {},
   "source": [
    "Le principe consistait de manière simple à, pour chaque cellule, tracer les simples_contour_side partant des 4 côtés, puis à concaténer tous les segmments de courbe. Pour optimiser le processus, il s'agit de mettre en place certains garde fous: par exemple, si à partir de la gauche, on fait un segment de courbe qui sort par la droite, il est inutile de faire le tracé qui part de la droite et qui sera inutile ! Cette dernière barrière n'a pas été implémentée par manque de temps.\n",
    "Le programme contour devient alors assez simple:"
   ]
  },
  {
   "cell_type": "code",
   "execution_count": null,
   "metadata": {},
   "outputs": [],
   "source": [
    "def contour_newton(f,c=0.,xc=[0.,1.],yc=[0.,1.0],delta=0.01,eps=2**(-26)):\n",
    "    xs,ys=[],[]\n",
    "    for i,abs_x in enumerate(xc[:(len(xc)-1)]):\n",
    "        for j,ord_y in enumerate(yc[:(len(yc)-1)]):\n",
    "            taille_cell=(xc[i+1]-xc[i],yc[j+1]-yc[j])\n",
    "            for side in range (1,5):\n",
    "                xs+=[simple_contour_side(f,abs_x,ord_y,c,side,taille_cell,eps)[0]]\n",
    "                ys+=[simple_contour_side(f,abs_x,ord_y,c,side,taille_cell,eps)[1]]\n",
    "\n",
    "    for x,y in zip(xs,ys):\n",
    "        plt.plot(x,y)\n",
    "    plt.show()\n",
    "contour(cercle,0.5,[-0.7,0.,0.7],[-0.7,0.,0.7])\n"
   ]
  },
  {
   "cell_type": "markdown",
   "metadata": {},
   "source": [
    "Pourquoi ça ne marche pas ? Parceque pour une raison inconnue, le tracé simple_contour_side donne des résultats aberrants lorsqu'il ne \"part pas du bon côté\". \n",
    "Exemple: "
   ]
  },
  {
   "cell_type": "code",
   "execution_count": null,
   "metadata": {},
   "outputs": [],
   "source": [
    "simple_contour_side(cercle,-0.3,0.,0.5,1) #ok"
   ]
  },
  {
   "cell_type": "code",
   "execution_count": null,
   "metadata": {},
   "outputs": [],
   "source": [
    "simple_contour_side(cercle,-0.3,0.,0.5,3) #mais...(rappelons que 3 correspond au côté droit du carré, pas de raison que ça ne marche pas à priori...)\n"
   ]
  },
  {
   "cell_type": "markdown",
   "metadata": {},
   "source": [
    "Et malgré de nombreuses heures de bataille et l'introduction de fonctions plus élaborées, comme celle-ci qui choisit la \"bonne direction\" parmis les deux possible quand on prend l'orthogonal au gradient, celle-ci étant celle de plus grand angle par rapport au segment qui relie le point actuel et le point précédent (fonction continuement différenciable donc pas de point de rebroussement). Notre problème en l'occurence était que le sens de l'inégalité varie puisque le produit scalaire est proportionel au cosinus de l'angle, et même quand ça fonctionne bien, ça n'apporte presque rien au problème (sauf dans certains cas isolés)."
   ]
  },
  {
   "cell_type": "code",
   "execution_count": null,
   "metadata": {},
   "outputs": [],
   "source": [
    "def prod_scalaire(a,b):\n",
    "    return a[0]*b[1]+a[1]*b[0]\n",
    "def choose_direction(f,x,y,pt_prec):\n",
    "    direction1=normalise_dim2(np.array([-grad(f,x,y)[1],grad(f,x,y)[0]]))\n",
    "    direction2=-direction1\n",
    "    if prod_scalaire(direction1,np.array([x-pt_prec[0],y-pt_prec[1]]))>=prod_scalaire(direction2,np.array([x-pt_prec[0],y-pt_prec[1]])):\n",
    "        return direction1\n",
    "    else:\n",
    "        return direction2  "
   ]
  },
  {
   "cell_type": "markdown",
   "metadata": {},
   "source": [
    "Pour montrer cependant qu'on a pas tout perdu, on peut quand même \"tricher\" mais c'est purement empirique, en disant au programme de quels côtés il doit partir, pour avoir le graphique complet. "
   ]
  },
  {
   "cell_type": "markdown",
   "metadata": {},
   "source": [
    "# Conclusion"
   ]
  },
  {
   "cell_type": "markdown",
   "metadata": {},
   "source": [
    "En conclusion, nous présentons une comparaison obtenue grâce à la biblothèque time: pour l'appel contour_simple(cercle,0.,0.,0.5) (soit le tracé d'un quart de cercle), la méthode \"élaborée\" met 0.0265s à s'exécuter contre 0.1s pour la méthode naïve: on peut donc présumer que sur de grands graphiques, la méthode faisant appel au calcul différentiel et à la vitesse de calcul du module numpy sera bien plus efficace, sous réserve de  lui apporter les ajustements qui lui permettront de fonctionner pleinement.  "
   ]
  }
 ],
 "metadata": {
  "kernelspec": {
   "display_name": "Python 3",
   "language": "python",
   "name": "python3"
  },
  "language_info": {
   "codemirror_mode": {
    "name": "ipython",
    "version": 3
   },
   "file_extension": ".py",
   "mimetype": "text/x-python",
   "name": "python",
   "nbconvert_exporter": "python",
   "pygments_lexer": "ipython3",
   "version": "3.7.4"
  }
 },
 "nbformat": 4,
 "nbformat_minor": 2
}
