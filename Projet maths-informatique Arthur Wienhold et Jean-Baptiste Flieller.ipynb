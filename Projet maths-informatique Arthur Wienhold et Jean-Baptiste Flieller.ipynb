{
 "cells": [
  {
   "cell_type": "code",
   "execution_count": 6,
   "metadata": {},
   "outputs": [],
   "source": [
    "import autograd                       #prérequis au niveau de l'environement\n",
    "from autograd import numpy as np\n",
    "import matplotlib.pyplot as plt\n",
    "from math import *\n",
    "\n"
   ]
  },
  {
   "cell_type": "markdown",
   "metadata": {},
   "source": [
    "L'objectif de ce projet était le tracé informatique de lignes de niveaux.\n",
    "Plus précisement, l'utilisateur saisit  f une fonction de deux variables à valeurs réelles, continuement différenciable, et le programme doit pouvoir représenter sur un graphique l'ensemble {(x,y), f(x,y)=c} avec c un réel donné en argument.\n",
    " Nous chercherons par plusieurs approches à remplir cette mission, avec deux contraintes principales:\n",
    " - Le temps de calcul qui ne doit pas excéder une durée d'attente raisonnable, compte tenu cependant de la complexité de la fonction à tracer, nous y renviendrons\n",
    " - La précision de la courbe rendue, qui là encore est soumis à la contrainte ci-dessus, ainsi qu'à la fonction.\n",
    " "
   ]
  },
  {
   "cell_type": "markdown",
   "metadata": {},
   "source": [
    "Deux approches ont été envisagées, l'une naïve et l'autre plus élaborées, mais toutes deux reposent sur une méthode commune: le pavage de l'espace: on subdivise le plan en carrés de tailles égales, dont le côté sera un argument donné par l'utilisateur stocké dans la variable taille_cell, valant par défaut 1, nous reviendrons sur la necessité d'un choix adapté pour cette variable. \n"
   ]
  },
  {
   "cell_type": "markdown",
   "metadata": {},
   "source": [
    "Une première approche naïve: une approche par dichotomie uniquement.\n",
    "Le principe global de cette méthode est le suivant: nous subdivisons chaque carré en 10 \"tranches\" de largeur (abscisses) 0.1taille_cell et de hauteur taille_cell.\n",
    "Puis, sur chacune des colonnes, nous appliquons un algorithme de dichotomie à la fonction g qui, pour une abscisse abs_x fixée, donne à y f(abs_x,y)-c. Nous trouvons alors un point de la ligne de niveau, si il existe, sur chacune des colonnes, puis on relie tous ces points, \"dans bon ordre\", à la fin.\n",
    "\n",
    "Voici l'algorithme qui trouve un point de la ligne de niveau sur une colonne donnée, et qui renvoit None si il n'en trouve pas. On demandera au lecteur d'ignorer les deux fonctions qui suivent, qu'il garde en mémoire pour l'instant qu'elles généralisent la recherche de graine sur les quatre côtés du carré (gauche: 1 puis on tourne dans le sens trigonométrique).\n"
   ]
  },
  {
   "cell_type": "code",
   "execution_count": 41,
   "metadata": {},
   "outputs": [],
   "source": [
    "\n",
    "def find_seed(f,c=0,abs_x=0,ord_y=0,taille_cell=(1,1),eps=2**(-26)):\n",
    "    def g(x,y):\n",
    "        return(f(x,y)-c)\n",
    "    a=ord_y\n",
    "    b=ord_y+taille_cell[1]\n",
    "    i=0\n",
    "    while g(abs_x,a)>eps or abs(a-b)>eps:    #on cherche un point pas loin du zéro et dont la valeur n'est pas trop lointaine de zéro\n",
    "        i+=1\n",
    "        m=(a+b)/2\n",
    "        if g(abs_x,m)*g(abs_x,a)<0:\n",
    "            b=m\n",
    "        else:\n",
    "            a=m\n",
    "    return a\n",
    "    if i==int(log2(1/eps))+2:\n",
    "          #si on a toujours pas convergé vers un point après avoir fait des découpages durant la dichotomie qui nous aurait amené à moins de eps du zero potentiel, on considère qu'il n'y a pas de zéro. Cette hypothèse repose sur le fait que la fonction est assez régulière.\n",
    "        return \"None\"\n",
    "\n",
    "\n",
    "\n",
    "\n",
    "def find_seed_x(f,abs_x,ord_y,taille_cell=(1,1),c=0,eps=2**(-26)):\n",
    "    def g(x,y):\n",
    "        return(f(x,y)-c)\n",
    "    a=abs_x\n",
    "    b=abs_x+taille_cell[0]\n",
    "    i=0\n",
    "    while g(a,ord_y)>eps or abs(a-b)>eps:       #on cherche selon les x\n",
    "        i+=1\n",
    "        m=(a+b)/2\n",
    "        if g(m,ord_y)*g(a,ord_y)<0:\n",
    "            b=m\n",
    "        else:\n",
    "            a=m\n",
    "    return a\n",
    "    if i==int(log2(1/eps))+2:\n",
    "\n",
    "        return \"None\"\n",
    "\n",
    "\n",
    "\n",
    "\n",
    "\n",
    "def find_seed_side(f,abs_x,ord_y,side,taille_cell=(1,1),c=0,eps=2**(-26)):\n",
    "    if side==1:\n",
    "        return find_seed(f,c,abs_x,ord_y,taille_cell,eps)\n",
    "    elif side==2:\n",
    "        return find_seed_x(f,c,abs_x,ord_y,taille_cell,eps)\n",
    "    elif side==3:\n",
    "        return find_seed(f,c,abs_x+taille_cell[0],ord_y,taille_cell,eps)\n",
    "    else:\n",
    "        return find_seed_x(f,c,abs_x,ord_y+taille_cell[1],taille_cell,eps)\n"
   ]
  },
  {
   "cell_type": "markdown",
   "metadata": {},
   "source": [
    "On notera que le succès de l'algorithme de dichotomie, qui nécessite la présence d'une fonction monotone et assez régulière sur la colonne, avec un zéro unique, repose sur un pavage assez fin du plan pour que localement les lignes de niveaux puissent être approximées par des segments. "
   ]
  },
  {
   "cell_type": "markdown",
   "metadata": {},
   "source": [
    "Une première approche naïve du problème consiste à découper chaque cellule en 10 rectangles de largeur (abscisses) 0.1taille_cell et de hauteur taille_cell. \n",
    "Sur chacune de ses colonnes d'abscisse abs_x, on fait une recherche par dichotomie d'un point de la courbe de niveau pour y trouver un point si il existe. Puis, on les relie entre eux pour avoir le segment de la ligne de niveau. On comprend bien que tout le succès de la méthode repose sur le fait que les cellules sont assez petites, on est en effet en grand danger si deux portions de la ligne de niveaux qui se se touchent pas passent par cette cellule (en plus du fait qu'il faut assurer le succès de la recherche dichotomique)"
   ]
  },
  {
   "cell_type": "code",
   "execution_count": 2,
   "metadata": {},
   "outputs": [
    {
     "ename": "NameError",
     "evalue": "name 'cercle' is not defined",
     "output_type": "error",
     "traceback": [
      "\u001b[1;31m---------------------------------------------------------------------------\u001b[0m",
      "\u001b[1;31mNameError\u001b[0m                                 Traceback (most recent call last)",
      "\u001b[1;32m<ipython-input-2-77c453f47412>\u001b[0m in \u001b[0;36m<module>\u001b[1;34m\u001b[0m\n\u001b[0;32m     14\u001b[0m     \u001b[1;32mreturn\u001b[0m \u001b[0mnp\u001b[0m\u001b[1;33m.\u001b[0m\u001b[0marray\u001b[0m\u001b[1;33m(\u001b[0m\u001b[0mX\u001b[0m\u001b[1;33m)\u001b[0m\u001b[1;33m,\u001b[0m \u001b[0mnp\u001b[0m\u001b[1;33m.\u001b[0m\u001b[0marray\u001b[0m\u001b[1;33m(\u001b[0m\u001b[0mY\u001b[0m\u001b[1;33m)\u001b[0m\u001b[1;33m\u001b[0m\u001b[1;33m\u001b[0m\u001b[0m\n\u001b[0;32m     15\u001b[0m \u001b[1;33m\u001b[0m\u001b[0m\n\u001b[1;32m---> 16\u001b[1;33m \u001b[0mX\u001b[0m\u001b[1;33m,\u001b[0m\u001b[0mY\u001b[0m\u001b[1;33m=\u001b[0m\u001b[0msimple_contour\u001b[0m\u001b[1;33m(\u001b[0m\u001b[0mcercle\u001b[0m\u001b[1;33m)\u001b[0m  \u001b[1;31m#nous effetuons un test sur un morceau de la fonction restreint [0,1]**2\u001b[0m\u001b[1;33m\u001b[0m\u001b[1;33m\u001b[0m\u001b[0m\n\u001b[0m\u001b[0;32m     17\u001b[0m \u001b[1;33m\u001b[0m\u001b[0m\n\u001b[0;32m     18\u001b[0m \u001b[1;31m#plt.plot(X,Y)\u001b[0m\u001b[1;33m\u001b[0m\u001b[1;33m\u001b[0m\u001b[1;33m\u001b[0m\u001b[0m\n",
      "\u001b[1;31mNameError\u001b[0m: name 'cercle' is not defined"
     ]
    }
   ],
   "source": [
    "\n",
    "def simple_contour(f, c=0.5, delta=0.01): # dans sa version naïve, il suffit d'effectuer un find_seed en changeant l'abscice x\n",
    "    X=[0]                                 # le déplaçant de delta à chaque itération\n",
    "    Y=[find_seed(f, c=c)]\n",
    "    if Y[0]==None:\n",
    "        return [],[]\n",
    "    \n",
    "    n=int(1//delta)\n",
    "    for k in range(1,n+2):            #nous effectuons n+1 itérations\n",
    "        A=find_seed(f, c=c, x=X[-1])\n",
    "        if not A==None:\n",
    "            X.append(X[-1]+delta)\n",
    "            Y.append(A)\n",
    "            \n",
    "    return np.array(X), np.array(Y)\n",
    "\n",
    "X,Y=simple_contour(cercle)  #nous effetuons un test sur un morceau de la fonction restreint [0,1]**2\n",
    "\n",
    "#plt.plot(X,Y)\n",
    "#plt.show()\n"
   ]
  },
  {
   "cell_type": "markdown",
   "metadata": {},
   "source": [
    "Puis, on généralise le tracé à tout le plan en faisant des tracés dans chaque cellule, en faisant \"tourner\" les cellules de façon à conserver une fonction contour simple dont la graine, si elle existe, est dans sur le côté gauche du carré."
   ]
  },
  {
   "cell_type": "code",
   "execution_count": 4,
   "metadata": {},
   "outputs": [
    {
     "ename": "TypeError",
     "evalue": "find_seed() missing 2 required positional arguments: 'abs_x' and 'ord_y'",
     "output_type": "error",
     "traceback": [
      "\u001b[1;31m---------------------------------------------------------------------------\u001b[0m",
      "\u001b[1;31mTypeError\u001b[0m                                 Traceback (most recent call last)",
      "\u001b[1;32m<ipython-input-4-d9d1c269a89e>\u001b[0m in \u001b[0;36m<module>\u001b[1;34m\u001b[0m\n\u001b[0;32m     79\u001b[0m \u001b[1;32mdef\u001b[0m \u001b[0mcercle\u001b[0m\u001b[1;33m(\u001b[0m\u001b[0mx\u001b[0m\u001b[1;33m,\u001b[0m\u001b[0my\u001b[0m\u001b[1;33m)\u001b[0m\u001b[1;33m:\u001b[0m\u001b[1;33m\u001b[0m\u001b[1;33m\u001b[0m\u001b[0m\n\u001b[0;32m     80\u001b[0m     \u001b[1;32mreturn\u001b[0m \u001b[0mx\u001b[0m\u001b[1;33m**\u001b[0m\u001b[1;36m2\u001b[0m\u001b[1;33m+\u001b[0m\u001b[0my\u001b[0m\u001b[1;33m**\u001b[0m\u001b[1;36m2\u001b[0m\u001b[1;33m\u001b[0m\u001b[1;33m\u001b[0m\u001b[0m\n\u001b[1;32m---> 81\u001b[1;33m \u001b[0mcontour\u001b[0m\u001b[1;33m(\u001b[0m\u001b[0mcercle\u001b[0m\u001b[1;33m,\u001b[0m\u001b[1;36m0.5\u001b[0m\u001b[1;33m,\u001b[0m\u001b[1;33m[\u001b[0m\u001b[1;33m-\u001b[0m\u001b[1;36m2.0\u001b[0m\u001b[1;33m,\u001b[0m\u001b[1;33m-\u001b[0m\u001b[1;36m1.0\u001b[0m\u001b[1;33m,\u001b[0m\u001b[1;36m0.\u001b[0m\u001b[1;33m,\u001b[0m\u001b[1;36m1.\u001b[0m\u001b[1;33m,\u001b[0m\u001b[1;36m2.\u001b[0m\u001b[1;33m]\u001b[0m\u001b[1;33m,\u001b[0m\u001b[1;33m[\u001b[0m\u001b[1;33m-\u001b[0m\u001b[1;36m2.0\u001b[0m\u001b[1;33m,\u001b[0m\u001b[1;33m-\u001b[0m\u001b[1;36m1.0\u001b[0m\u001b[1;33m,\u001b[0m\u001b[1;36m0.\u001b[0m\u001b[1;33m,\u001b[0m\u001b[1;36m1.\u001b[0m\u001b[1;33m,\u001b[0m\u001b[1;36m2.\u001b[0m\u001b[1;33m]\u001b[0m\u001b[1;33m)\u001b[0m\u001b[1;33m\u001b[0m\u001b[1;33m\u001b[0m\u001b[0m\n\u001b[0m",
      "\u001b[1;32m<ipython-input-4-d9d1c269a89e>\u001b[0m in \u001b[0;36mcontour\u001b[1;34m(f, c, xs, ys, delta)\u001b[0m\n\u001b[0;32m     48\u001b[0m                 \u001b[1;32mif\u001b[0m \u001b[0mn\u001b[0m \u001b[1;32mnot\u001b[0m \u001b[1;32min\u001b[0m \u001b[0mdone\u001b[0m\u001b[1;33m:\u001b[0m\u001b[1;33m\u001b[0m\u001b[1;33m\u001b[0m\u001b[0m\n\u001b[0;32m     49\u001b[0m                     \u001b[0mrotated_f_cell\u001b[0m \u001b[1;33m=\u001b[0m \u001b[0mrotate_function\u001b[0m\u001b[1;33m(\u001b[0m\u001b[0mf_cell\u001b[0m\u001b[1;33m,\u001b[0m \u001b[0mn\u001b[0m\u001b[1;33m)\u001b[0m\u001b[1;33m\u001b[0m\u001b[1;33m\u001b[0m\u001b[0m\n\u001b[1;32m---> 50\u001b[1;33m                     \u001b[0mx_curve_r\u001b[0m\u001b[1;33m,\u001b[0m \u001b[0my_curve_r\u001b[0m \u001b[1;33m=\u001b[0m \u001b[0msimple_contour\u001b[0m\u001b[1;33m(\u001b[0m\u001b[0mrotated_f_cell\u001b[0m\u001b[1;33m,\u001b[0m \u001b[0mc\u001b[0m\u001b[1;33m,\u001b[0m \u001b[0mdelta\u001b[0m\u001b[1;33m)\u001b[0m\u001b[1;33m\u001b[0m\u001b[1;33m\u001b[0m\u001b[0m\n\u001b[0m\u001b[0;32m     51\u001b[0m                     \u001b[0mexit\u001b[0m \u001b[1;33m=\u001b[0m \u001b[1;32mNone\u001b[0m\u001b[1;33m\u001b[0m\u001b[1;33m\u001b[0m\u001b[0m\n\u001b[0;32m     52\u001b[0m                     \u001b[1;32mif\u001b[0m \u001b[0mlen\u001b[0m\u001b[1;33m(\u001b[0m\u001b[0mx_curve_r\u001b[0m\u001b[1;33m)\u001b[0m \u001b[1;33m>=\u001b[0m \u001b[1;36m1\u001b[0m\u001b[1;33m:\u001b[0m\u001b[1;33m\u001b[0m\u001b[1;33m\u001b[0m\u001b[0m\n",
      "\u001b[1;32m<ipython-input-2-77c453f47412>\u001b[0m in \u001b[0;36msimple_contour\u001b[1;34m(f, c, delta)\u001b[0m\n\u001b[0;32m      1\u001b[0m \u001b[1;32mdef\u001b[0m \u001b[0msimple_contour\u001b[0m\u001b[1;33m(\u001b[0m\u001b[0mf\u001b[0m\u001b[1;33m,\u001b[0m \u001b[0mc\u001b[0m\u001b[1;33m=\u001b[0m\u001b[1;36m0.5\u001b[0m\u001b[1;33m,\u001b[0m \u001b[0mdelta\u001b[0m\u001b[1;33m=\u001b[0m\u001b[1;36m0.01\u001b[0m\u001b[1;33m)\u001b[0m\u001b[1;33m:\u001b[0m \u001b[1;31m# dans sa version naïve, il suffit d'effectuer un find_seed en changeant l'abscice x\u001b[0m\u001b[1;33m\u001b[0m\u001b[1;33m\u001b[0m\u001b[0m\n\u001b[0;32m      2\u001b[0m     \u001b[0mX\u001b[0m\u001b[1;33m=\u001b[0m\u001b[1;33m[\u001b[0m\u001b[1;36m0\u001b[0m\u001b[1;33m]\u001b[0m                                 \u001b[1;31m# le déplaçant de delta à chaque itération\u001b[0m\u001b[1;33m\u001b[0m\u001b[1;33m\u001b[0m\u001b[0m\n\u001b[1;32m----> 3\u001b[1;33m     \u001b[0mY\u001b[0m\u001b[1;33m=\u001b[0m\u001b[1;33m[\u001b[0m\u001b[0mfind_seed\u001b[0m\u001b[1;33m(\u001b[0m\u001b[0mf\u001b[0m\u001b[1;33m,\u001b[0m \u001b[0mc\u001b[0m\u001b[1;33m=\u001b[0m\u001b[0mc\u001b[0m\u001b[1;33m)\u001b[0m\u001b[1;33m]\u001b[0m\u001b[1;33m\u001b[0m\u001b[1;33m\u001b[0m\u001b[0m\n\u001b[0m\u001b[0;32m      4\u001b[0m     \u001b[1;32mif\u001b[0m \u001b[0mY\u001b[0m\u001b[1;33m[\u001b[0m\u001b[1;36m0\u001b[0m\u001b[1;33m]\u001b[0m\u001b[1;33m==\u001b[0m\u001b[1;32mNone\u001b[0m\u001b[1;33m:\u001b[0m\u001b[1;33m\u001b[0m\u001b[1;33m\u001b[0m\u001b[0m\n\u001b[0;32m      5\u001b[0m         \u001b[1;32mreturn\u001b[0m \u001b[1;33m[\u001b[0m\u001b[1;33m]\u001b[0m\u001b[1;33m,\u001b[0m\u001b[1;33m[\u001b[0m\u001b[1;33m]\u001b[0m\u001b[1;33m\u001b[0m\u001b[1;33m\u001b[0m\u001b[0m\n",
      "\u001b[1;31mTypeError\u001b[0m: find_seed() missing 2 required positional arguments: 'abs_x' and 'ord_y'"
     ]
    }
   ],
   "source": [
    "# Rotators\n",
    "# ------------------------------------------------------------------------------\n",
    "LEFT, UP, RIGHT, DOWN = 0, 1, 2, 3  # clockwise\n",
    "\n",
    "\n",
    "def rotate_direction(direction, n=1):\n",
    "    return (direction + n) % 4\n",
    "\n",
    "\n",
    "def rotate(x, y, n=1):\n",
    "    if n == 0:\n",
    "        return x, y\n",
    "    elif n >= 1:\n",
    "        return rotate(1 - y, x, n - 1)\n",
    "    else:\n",
    "        assert n < 0\n",
    "        return rotate(x, y, n=-3 * n)\n",
    "\n",
    "\n",
    "def rotate_function(f, n=1):\n",
    "    def rotated_function(x, y):\n",
    "        xr, yr = rotate(x, y, -n)\n",
    "        return f(xr, yr)\n",
    "\n",
    "    return rotated_function\n",
    "\n",
    "\n",
    "# Complex Contouring\n",
    "# ------------------------------------------------------------------------------\n",
    "\n",
    "# Customize the simple_contour function used in contour :\n",
    "# simple_contour = smart_simple_contour\n",
    "\n",
    "\n",
    "def contour(f, c, xs=[0.0, 1.0], ys=[0.0, 1.0], delta=0.01):\n",
    "    curves = []\n",
    "    nx, ny = len(xs), len(ys)\n",
    "    for i in range(nx - 1):\n",
    "        for j in range(ny - 1):\n",
    "            xmin, xmax = xs[i], xs[i + 1]\n",
    "            ymin, ymax = ys[j], ys[j + 1]\n",
    "\n",
    "            def f_cell(x, y):\n",
    "                return f(xmin + (xmax - xmin) * x, ymin + (ymax - ymin) * y)\n",
    "\n",
    "            done = set()\n",
    "            for n in [0, 1, 2, 3]:\n",
    "                if n not in done:\n",
    "                    rotated_f_cell = rotate_function(f_cell, n)\n",
    "                    x_curve_r, y_curve_r = simple_contour(rotated_f_cell, c, delta)\n",
    "                    exit = None\n",
    "                    if len(x_curve_r) >= 1:\n",
    "                        xf, yf = x_curve_r[-1], y_curve_r[-1]\n",
    "                        if xf == 0.0:\n",
    "                            exit = LEFT\n",
    "                        elif xf == 1.0:\n",
    "                            exit = RIGHT\n",
    "                        elif yf == 0.0:\n",
    "                            exit = DOWN\n",
    "                        elif yf == 1.0:\n",
    "                            exit = UP\n",
    "                    if exit is not None:  # a fully successful contour fragment\n",
    "                        exit = rotate_direction(exit, n)\n",
    "                        done.add(exit)\n",
    "\n",
    "                    x_curve, y_curve = [], []\n",
    "                    for x_r, y_r in zip(x_curve_r, y_curve_r):\n",
    "                        x, y = rotate(x_r, y_r, n=-n)\n",
    "                        x_curve.append(x)\n",
    "                        y_curve.append(y)\n",
    "                    x_curve = np.array(x_curve)\n",
    "                    y_curve = np.array(y_curve)\n",
    "                    curves.append(\n",
    "                        (xmin + (xmax - xmin) * x_curve, ymin + (ymax - ymin) * y_curve)\n",
    "                    )\n",
    "    for x, y in level_curves:\n",
    "        matplotlib.pyplot.plot(x, y)\n",
    "        \n",
    "def cercle(x,y):\n",
    "    return x**2+y**2\n",
    "contour(cercle,0.5,[-2.0,-1.0,0.,1.,2.],[-2.0,-1.0,0.,1.,2.])"
   ]
  },
  {
   "cell_type": "markdown",
   "metadata": {},
   "source": [
    "On constate donc que cette méthode, bien que rudimentaire, propose des résultats satisfaisants, mais avec une quantité gigantesque de calculs, et une approche assez rudimentaire. Cherchons donc une solution plus avancée, aussi bien sur le plan mathématique et informatique"
   ]
  },
  {
   "cell_type": "markdown",
   "metadata": {},
   "source": [
    "Méthode de Newton: \n",
    "\n",
    "Principe: on pave l'espace, et l'on va comme dans la première méthode trouver un point de la courbe de niveau sur le côté gauche du carré.\n",
    "Puis, on cherche à tracer le segment de courbe de niveau, si il existe, contenu dans le carré, les points étant séparé d''environ delta, avec delta=01*taille_cell*\n",
    "Le principe est le suivant: on définit la fonction F qui à (x,y) donne (f(x,y)-c, distance((x,y),(w,z))**2-delta**2) avec (w,z) un point de la ligne de niveau déjà trouvé, en argument de la fonction F.\n",
    "Le but finalement est de trouver un zéro à cette fonction: un point de la ligne de niveau à une distance delta du précédent."
   ]
  },
  {
   "cell_type": "code",
   "execution_count": 1,
   "metadata": {},
   "outputs": [],
   "source": [
    "def distance_carre(x,y,w,z):     \n",
    "    return (z-y)**2+(w-x)**2\n",
    "\n",
    "def F(f,x,y,w,z,c=0):\n",
    "    return np.arrray([f(x,y)-c,distance_carre(x,y,w,z)-delta**2])"
   ]
  },
  {
   "cell_type": "markdown",
   "metadata": {},
   "source": [
    "Explication mathématique de la méthode: nous définissons Fx et Fy les composantes en x et y de F\n",
    " \n",
    "Un developpement limité au premier ordre donne, avec (x0,y0) un point du plan: \n",
    "\n",
    "$ F_x(x,y) = F_x(x_0,y_0)+ \\frac{\\partial F_x}{\\partial x}(x_0,y_0)(x-x_0) + \\frac{\\partial F_x}{\\partial y}(x_0,y_0)(y-y_0) + o(x-x_0,y-y_0)$\n",
    "\n",
    "$ F_y(x,y) = F_y(x_0,y_0)+ \\frac{\\partial F_y}{\\partial x}(x_0,y_0)(x-x_0) + \\frac{\\partial F_y}{\\partial y}(x_0,y_0)(y-y_0) + o(x-x_0,y-y_0)$\n",
    "\n",
    "Nous conserverons cette approximation.\n",
    "\n",
    "Si on veut converger vers un point (x,y) qui annule F, nous tirons des deux lignes précédentes une relation: \n",
    "\n",
    "$\\begin{pmatrix}\n",
    "- F_x(x_0,y_0) \\\\\n",
    "- F_y(x_0,y_0)\n",
    "\\end{pmatrix}\n",
    "= J(x_0,y_0)\n",
    "\\begin{pmatrix}\n",
    "x_1 - x_0\\\\\n",
    "y_1-y_0\n",
    "\\end{pmatrix}\n",
    "$\n",
    "\n",
    "Puis par récurrence, nous obtenons la formule de l'algorithme de Newton généralisée en dimension 2:\n",
    "\n",
    "$\\begin{pmatrix}\n",
    "x_{n+1}\\\\\n",
    "y_{n+1}\n",
    "\\end{pmatrix}\n",
    "=\n",
    "\\begin{pmatrix}\n",
    "x_{n}\\\\\n",
    "y_{n}\n",
    "\\end{pmatrix}\n",
    "- J^{-1}(x_n,y_n)\n",
    "\\begin{pmatrix}\n",
    "F_x(x_n,y_n)\\\\\n",
    "F_y(x_n,y_n)\n",
    "\\end{pmatrix}\n",
    "$\n",
    "\n"
   ]
  },
  {
   "cell_type": "code",
   "execution_count": 35,
   "metadata": {},
   "outputs": [],
   "source": [
    "def grad(f,x,y):\n",
    "    g=autograd.grad\n",
    "    return np.array([g(f,0)(x,y),g(f,1)(x,y)])\n",
    "\n",
    "\n",
    "#On construit la jacobienne de F en un point (x,y), en gardant en mémoire que l'on part de (w,z) donnés en argument\n",
    "\n",
    "    \n",
    "def Jacobienne_F(f,x,y):\n",
    "    j=autograd.jacobian\n",
    "    return np.c_[j(f,0)(x,y),j(f,1)(x,y)]\n",
    "\n",
    "\n",
    "def tang_norm(f,x,y,delta=0.01):\n",
    "                                  #retourne un vecteur, de norme delta, orthogonal au gradient de f en (x,y), donc tangent à la ligne de niveau de f en (x,y)\n",
    "    \n",
    "    \n",
    "    g=autograd.grad\n",
    "    normed=delta/((g(f,0)(x,y)**2+g(f,1)(x,y)**2)**(0.5))\n",
    "    return np.r_[g(f,1)(x,y)*normed,-g(f,0)(x,y)*normed]\n",
    "\n",
    "\n",
    "\n",
    "    \n",
    "#Trouve le point suivant  \n",
    "\n",
    "def trouve_suivant(f,xi,yi,d,c,eps):\n",
    "\n",
    "    def F(x,y):\n",
    "        return np.array([f(x,y)-c,(x-xi)**2+(y-yi)**2-d**2])\n",
    "\n",
    "    (x,y)=(xi,yi)+tang_norm(f,xi,yi,d)\n",
    "\n",
    "    compteur=0 #compte le nombre d'itÃ©rations\n",
    "\n",
    "    while F(x,y)[0]**2+F(x,y)[1]**2 > eps**2 and compteur<100000:\n",
    "        J=Jacobienne_F(F,x,y)\n",
    "        try:\n",
    "            (x,y)=(x,y)-np.dot(np.linalg.inv(J),F(x,y))\n",
    "        except np.linalg.LinAlgError :\n",
    "            return (x,y)\n",
    "        compteur+=1\n",
    "\n",
    "    return (x,y)\n",
    "\n"
   ]
  },
  {
   "cell_type": "markdown",
   "metadata": {},
   "source": [
    "Nous sommes maintenant près à mettre en place le programme qui tracera le segment de ligne dans le carré. Notons que ce programme s'arretera quand on sera proche des côtés haut, doite et bas de la cellule (on part de sur le côté gauche, et l'on suppose que le découpage du plan est suffisement fin pourque la ligne de niveau de f ne coupe qu'une seule fois ce côté)."
   ]
  },
  {
   "cell_type": "markdown",
   "metadata": {},
   "source": [
    "Notons aussi qu'au départ du côté gauche du carré, il faut faire le saut vers l'intérieur de la cellule, d'où ces petits programmes spécifiques à la première recherche (encore une fois, ignorons pour l'instant le paramètre side qui vaut 1 par défaut dans simple_contour, on regarde donc le côté gauche)."
   ]
  },
  {
   "cell_type": "code",
   "execution_count": 34,
   "metadata": {},
   "outputs": [],
   "source": [
    "\n",
    "def choose_direction_init_side(f,x,y,side):\n",
    "    direction=normalise_dim2(np.array([-grad(f,x,y)[1],grad(f,x,y)[0]]))\n",
    "    if side==1:\n",
    "        if direction[0]>=0:\n",
    "            return direction\n",
    "        else:\n",
    "            return -direction\n",
    "    if side==3:\n",
    "        if direction[0]<=0:\n",
    "            return direction\n",
    "        else:\n",
    "            return -direction\n",
    "    if side==2:\n",
    "        if direction[1]>=0:\n",
    "            return direction\n",
    "        else:\n",
    "            return -direction\n",
    "    else:\n",
    "        if direction[1]<=0:\n",
    "            return direction\n",
    "        else:\n",
    "            return -direction\n",
    "    \n",
    "def trouve_suivant_init_side(f,xi,yi,d,c,side,eps):\n",
    "\n",
    "    def F(x,y):\n",
    "        return np.array([f(x,y)-c,(x-xi)**2+(y-yi)**2-d**2])\n",
    "\n",
    "    (x,y)=(xi,yi)+choose_direction_init_side(f,xi,yi,side)*d\n",
    "\n",
    "    compteur=0 #compte le nombre d'itÃ©rations\n",
    "\n",
    "    while F(x,y)[0]**2+F(x,y)[1]**2 > eps**2 and compteur<1000:\n",
    "        J=Jacobienne_F(F,x,y)\n",
    "        try:\n",
    "            (x,y)=(x,y)-np.dot(np.linalg.inv(J),F(x,y))\n",
    "        except np.linalg.LinAlgError :\n",
    "            return (x,y)\n",
    "        compteur+=1"
   ]
  },
  {
   "cell_type": "code",
   "execution_count": 42,
   "metadata": {},
   "outputs": [],
   "source": [
    "def simple_contour(f,abs_x,ord_y,c=0.0,side=1,taille_cell=(1,1),eps=2**(-26)):\n",
    "    d=0.01*taille_cell[0]\n",
    "    X,Y=np.array([]),np.array([])\n",
    "    if side==1 or side==3:\n",
    "        start_y=find_seed_side(f,abs_x,ord_y,side,taille_cell,c)\n",
    "        start_x=abs_x\n",
    "        print(start_x,start_y)\n",
    "    else:\n",
    "        start_x=find_seed_side(f,abs_x,ord_y,side,taille_cell,c)\n",
    "        start_y=ord_y\n",
    "    print(start_x,start_y)\n",
    "\n",
    "    if isinstance(start_y,float) and isinstance(start_x,float):\n",
    "        X=np.append(X,start_x)\n",
    "        Y=np.append(Y,start_y)\n",
    "        (xi,yi)=trouve_suivant_init_side(f,start_x,start_y,d,c,side,eps)\n",
    "        X=np.append(X,xi)\n",
    "        Y=np.append(Y,yi)\n",
    "        print(X,Y)\n",
    "\n",
    "        compteur=0\n",
    "        while xi>eps+abs_x and (abs_x+taille_cell[0]-eps)>xi and yi>eps+ord_y and (ord_y+taille_cell[1]-eps)>yi and compteur <1000:\n",
    "            pt_prec=np.array([X[-2],Y[-2]])\n",
    "            (xi,yi)=trouve_suivant(f,xi,yi,pt_prec,d,c,eps)\n",
    "            X=np.append(X,xi)\n",
    "            Y=np.append(Y,yi)\n",
    "            compteur+=1\n",
    "        print(X,Y)\n",
    "        plt.plot(X,Y)\n",
    "        plt.show()\n",
    "    else:\n",
    "        return (X,X)\n"
   ]
  },
  {
   "cell_type": "code",
   "execution_count": 43,
   "metadata": {},
   "outputs": [
    {
     "name": "stdout",
     "output_type": "stream",
     "text": [
      "0.0 0.7071067690849304\n",
      "0.0 0.7071067690849304\n"
     ]
    },
    {
     "ename": "TypeError",
     "evalue": "cannot unpack non-iterable NoneType object",
     "output_type": "error",
     "traceback": [
      "\u001b[1;31m---------------------------------------------------------------------------\u001b[0m",
      "\u001b[1;31mTypeError\u001b[0m                                 Traceback (most recent call last)",
      "\u001b[1;32m<ipython-input-43-45d030216da3>\u001b[0m in \u001b[0;36m<module>\u001b[1;34m\u001b[0m\n\u001b[0;32m      2\u001b[0m     \u001b[1;32mreturn\u001b[0m \u001b[0mx\u001b[0m\u001b[1;33m**\u001b[0m\u001b[1;36m2\u001b[0m\u001b[1;33m+\u001b[0m\u001b[0my\u001b[0m\u001b[1;33m**\u001b[0m\u001b[1;36m2\u001b[0m\u001b[1;33m\u001b[0m\u001b[1;33m\u001b[0m\u001b[0m\n\u001b[0;32m      3\u001b[0m \u001b[1;33m\u001b[0m\u001b[0m\n\u001b[1;32m----> 4\u001b[1;33m \u001b[0msimple_contour\u001b[0m\u001b[1;33m(\u001b[0m\u001b[0mcercle\u001b[0m\u001b[1;33m,\u001b[0m\u001b[1;36m0.\u001b[0m\u001b[1;33m,\u001b[0m\u001b[1;36m0.\u001b[0m\u001b[1;33m,\u001b[0m\u001b[1;36m0.5\u001b[0m\u001b[1;33m)\u001b[0m\u001b[1;33m\u001b[0m\u001b[1;33m\u001b[0m\u001b[0m\n\u001b[0m",
      "\u001b[1;32m<ipython-input-42-48627c55bfe1>\u001b[0m in \u001b[0;36msimple_contour\u001b[1;34m(f, abs_x, ord_y, c, side, taille_cell, eps)\u001b[0m\n\u001b[0;32m     14\u001b[0m         \u001b[0mX\u001b[0m\u001b[1;33m=\u001b[0m\u001b[0mnp\u001b[0m\u001b[1;33m.\u001b[0m\u001b[0mappend\u001b[0m\u001b[1;33m(\u001b[0m\u001b[0mX\u001b[0m\u001b[1;33m,\u001b[0m\u001b[0mstart_x\u001b[0m\u001b[1;33m)\u001b[0m\u001b[1;33m\u001b[0m\u001b[1;33m\u001b[0m\u001b[0m\n\u001b[0;32m     15\u001b[0m         \u001b[0mY\u001b[0m\u001b[1;33m=\u001b[0m\u001b[0mnp\u001b[0m\u001b[1;33m.\u001b[0m\u001b[0mappend\u001b[0m\u001b[1;33m(\u001b[0m\u001b[0mY\u001b[0m\u001b[1;33m,\u001b[0m\u001b[0mstart_y\u001b[0m\u001b[1;33m)\u001b[0m\u001b[1;33m\u001b[0m\u001b[1;33m\u001b[0m\u001b[0m\n\u001b[1;32m---> 16\u001b[1;33m         \u001b[1;33m(\u001b[0m\u001b[0mxi\u001b[0m\u001b[1;33m,\u001b[0m\u001b[0myi\u001b[0m\u001b[1;33m)\u001b[0m\u001b[1;33m=\u001b[0m\u001b[0mtrouve_suivant_init_side\u001b[0m\u001b[1;33m(\u001b[0m\u001b[0mf\u001b[0m\u001b[1;33m,\u001b[0m\u001b[0mstart_x\u001b[0m\u001b[1;33m,\u001b[0m\u001b[0mstart_y\u001b[0m\u001b[1;33m,\u001b[0m\u001b[0md\u001b[0m\u001b[1;33m,\u001b[0m\u001b[0mc\u001b[0m\u001b[1;33m,\u001b[0m\u001b[0mside\u001b[0m\u001b[1;33m,\u001b[0m\u001b[0meps\u001b[0m\u001b[1;33m)\u001b[0m\u001b[1;33m\u001b[0m\u001b[1;33m\u001b[0m\u001b[0m\n\u001b[0m\u001b[0;32m     17\u001b[0m         \u001b[0mX\u001b[0m\u001b[1;33m=\u001b[0m\u001b[0mnp\u001b[0m\u001b[1;33m.\u001b[0m\u001b[0mappend\u001b[0m\u001b[1;33m(\u001b[0m\u001b[0mX\u001b[0m\u001b[1;33m,\u001b[0m\u001b[0mxi\u001b[0m\u001b[1;33m)\u001b[0m\u001b[1;33m\u001b[0m\u001b[1;33m\u001b[0m\u001b[0m\n\u001b[0;32m     18\u001b[0m         \u001b[0mY\u001b[0m\u001b[1;33m=\u001b[0m\u001b[0mnp\u001b[0m\u001b[1;33m.\u001b[0m\u001b[0mappend\u001b[0m\u001b[1;33m(\u001b[0m\u001b[0mY\u001b[0m\u001b[1;33m,\u001b[0m\u001b[0myi\u001b[0m\u001b[1;33m)\u001b[0m\u001b[1;33m\u001b[0m\u001b[1;33m\u001b[0m\u001b[0m\n",
      "\u001b[1;31mTypeError\u001b[0m: cannot unpack non-iterable NoneType object"
     ]
    }
   ],
   "source": [
    "def cercle(x,y):\n",
    "    return x**2+y**2\n",
    "\n",
    "simple_contour(cercle,0.,0.,0.5)"
   ]
  }
 ],
 "metadata": {
  "kernelspec": {
   "display_name": "Python 3",
   "language": "python",
   "name": "python3"
  },
  "language_info": {
   "codemirror_mode": {
    "name": "ipython",
    "version": 3
   },
   "file_extension": ".py",
   "mimetype": "text/x-python",
   "name": "python",
   "nbconvert_exporter": "python",
   "pygments_lexer": "ipython3",
   "version": "3.7.4"
  }
 },
 "nbformat": 4,
 "nbformat_minor": 2
}
