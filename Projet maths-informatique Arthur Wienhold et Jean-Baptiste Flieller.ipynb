{
 "cells": [
  {
   "cell_type": "code",
   "execution_count": null,
   "metadata": {},
   "outputs": [],
   "source": [
    "import autograd                       #prérequis au niveau de l'environement\n",
    "from autograd import numpy as np\n",
    "import matplotlib.pyplot as plt\n",
    "from math import *\n",
    "\n"
   ]
  },
  {
   "cell_type": "markdown",
   "metadata": {},
   "source": [
    "L'objectif de ce projet était le tracé informatique de lignes de niveaux.\n",
    "Plus précisement, l'utilisateur saisit  f une fonction de deux variables à valeurs réelles, continuement différenciable, et le programme doit pouvoir représenter sur un graphique l'ensemble {(x,y), f(x,y)=c} avec c un réel donné en argument.\n",
    " Nous chercherons par plusieurs approches à remplir cette mission, avec deux contraintes principales:\n",
    " - Le temps de calcul qui ne doit pas excéder une durée d'attente raisonnable, compte tenu cependant de la complexité de la fonction à tracer, nous y renviendrons\n",
    " - La précision de la courbe rendue, qui là encore est soumis à la contrainte ci-dessus, ainsi qu'à la fonction.\n",
    " "
   ]
  },
  {
   "cell_type": "markdown",
   "metadata": {},
   "source": [
    "Deux approches ont été envisagées, l'une naïve et l'autre plus élaborées, mais toutes deux reposent sur une méthode commune: le pavage de l'espace: on subdivise le plan en carrés de tailles égales, dont le côté sera un argument donné par l'utilisateur stocké dans la variable taille_cell, valant par défaut 1, nous reviendrons sur la necessité d'un choix adapté pour cette variable. \n"
   ]
  },
  {
   "cell_type": "markdown",
   "metadata": {},
   "source": [
    "Une première approche naïve: une approche par dichotomie uniquement.\n",
    "Le principe global de cette méthode est le suivant: nous subdivisons chaque carré en 10 \"tranches\" de largeur (abscisses) 0.1taille_cell et de hauteur taille_cell.\n",
    "Puis, sur chaqune des colonnes, nous appliquons un algorithme de dichotomie à la fonction g qui, pour une abscisse abs_x fixée, donne à y f(abs_x,y)-c. Nous trouvons alors un point de la ligne de niveau, si il existe, sur chacune des colonnes, puis on relie tous ces points, \"dans bon ordre\", à la fin.\n",
    "\n",
    "Voici l'algotithme qui trouve un point de la ligne de niveau sur une colonne donnée, et qui renvoit None si il n'en trouve pas."
   ]
  },
  {
   "cell_type": "code",
   "execution_count": null,
   "metadata": {},
   "outputs": [],
   "source": [
    "\n",
    "def find_seed(f,abs_x,ord_y,taille_cell=(1,1),c=0,eps=2**(-26)):\n",
    "    def g(x,y):\n",
    "        return(f(x,y)-c)\n",
    "    a=ord_y\n",
    "    b=ord_y+taille_cell[1]\n",
    "    i=0\n",
    "    while g(abs_x,a)>eps or abs(a-b)>eps:    #on cherche un point pas loin du zéro et dont la valeur n'est pas trop lointaine de zéro\n",
    "        i+=1\n",
    "        m=(a+b)/2\n",
    "        if g(abs_x,m)*g(abs_x,a)<0:\n",
    "            b=m\n",
    "        else:\n",
    "            a=m\n",
    "    return a\n",
    "    if i==int(log2(1/eps))+2:\n",
    "                                 #si on a toujours pas convergé vers un point après avoir fait des découpages durant la dichotomie qui nous aurait amené à moins de eps du zero potentiel, on considère qu'il n'y a pas de zéro. Cette hypothèse repose sur le fait que la fonction est assez régulière.\n",
    "        return \"None\"\n",
    "\n"
   ]
  },
  {
   "cell_type": "markdown",
   "metadata": {},
   "source": [
    "On notera que le succès de l'algorithme de dichotomie, qui nécessite la présence d'une fonction func_seed monotone et assez régulière sur la colonne, avec un zéro unique, repose sur un pavage assez précis du plan pour que localement les lignes de niveaux puissent être approximées par des segments. "
   ]
  },
  {
   "cell_type": "markdown",
   "metadata": {},
   "source": [
    "Une première approche naïve du problème consiste à découper chaque cellule en 10 rectangles de largeur (abscisses) 0.1taille_cell et de hauteur taille_cell. \n",
    "Sur chacune de ses colonnes d'abscisse abs_x, on fait une recherche par dichotomie d'un point de la courbe de niveau pour y trouver un point si il existe. Puis, on les relie entre eux pour avoir le segment de la ligne de niveau. On comprend bien que tout le succès de la méthode repose sur le fait que les cellules sont assez petites, on est en effet en grand danger si deux portions de la ligne de niveaux qui se se touchent pas passent par cette cellule (en plus du fait qu'il faut assurer le succès de la recherche dichotomique)"
   ]
  },
  {
   "cell_type": "code",
   "execution_count": null,
   "metadata": {},
   "outputs": [],
   "source": [
    "\n",
    "def simple_contour(f, c=0.5, delta=0.01): # dans sa version naïve, il suffit d'effectuer un find_seed en changeant l'abscice x\n",
    "    X=[0]                                 # le déplaçant de delta à chaque itération\n",
    "    Y=[find_seed(f, c=c)]\n",
    "    if Y[0]==None:\n",
    "        return [],[]\n",
    "    \n",
    "    n=int(1//delta)\n",
    "    for k in range(1,n+2):            #nous effectuons n+1 itérations\n",
    "        A=find_seed(f, c=c, x=X[-1])\n",
    "        if not A==None:\n",
    "            X.append(X[-1]+delta)\n",
    "            Y.append(A)\n",
    "            \n",
    "    return np.array(X), np.array(Y)\n",
    "\n",
    "X,Y=simple_contour(f)  #nous effetuons un test sur un morceau de la fonction restreint [0,1]**2\n",
    "\n",
    "#plt.plot(X,Y)\n",
    "#plt.show()\n"
   ]
  },
  {
   "cell_type": "markdown",
   "metadata": {},
   "source": [
    "Puis, on généralise le tracé à tout le plan en faisant des tracés dans chaque cellule, en faisant \"tourner\" les cellules de façon a "
   ]
  },
  {
   "cell_type": "markdown",
   "metadata": {},
   "source": [
    "On constate donc que cette méthode, bien que rudimentaire, propose des résultats satisfaisants, mais avec une quantité gigantesque de calculs, et une approche assez rudimentaire. Cherchons donc une solution plus avancée, aussi bien sur le plan mathématique et informatique"
   ]
  },
  {
   "cell_type": "markdown",
   "metadata": {},
   "source": [
    "Méthode de Newton: \n",
    "\n",
    "Principe: on pave l'espace, et l'on va comme dans la première méthode trouver un point de la courbe de niveau sur le côté gauche du carré.\n",
    "Puis, on cherche à tracer le segment de courbe de niveau, si il existe, contenu dans le carré, les points étant séparé d''environ delta, avec delta=01*taille_cell*\n",
    "Le principe est le suivant: on définit la fonction F qui à (x,y) donne (f(x,y)-c, distance((x,y),(w,z))**2-delta**2) avec (w,z) un point de la ligne de niveau déjà trouvé, en argument de la fonction F.\n",
    "Le but finalement est de trouver un zéro à cette fonction: un point de la ligne de niveau à une distance delta du précédent."
   ]
  },
  {
   "cell_type": "code",
   "execution_count": null,
   "metadata": {},
   "outputs": [],
   "source": [
    "def distance_carre(x,y,w,z):     \n",
    "    return (z-y)**2+(w-x)**2\n",
    "\n",
    "def F(f,x,y,w,z,c=0):\n",
    "    return np.arrray([f(x,y)-c,distance_carre(x,y,w,z)-delta**2])"
   ]
  },
  {
   "cell_type": "markdown",
   "metadata": {},
   "source": [
    "Explication mathématique de la méthode: nous définissons Fx et Fy les composantes en x et y de F\n",
    " \n",
    "Un developpement limité au premier ordre donne, avec (x0,y0) un point du plan: \n",
    "\n",
    "$ F_x(x,y) = F_x(x_0,y_0)+ \\frac{\\partial F_x}{\\partial x}(x_0,y_0)(x-x_0) + \\frac{\\partial F_x}{\\partial y}(x_0,y_0)(y-y_0) + o(x-x_0,y-y_0)$\n",
    "\n",
    "$ F_y(x,y) = F_y(x_0,y_0)+ \\frac{\\partial F_y}{\\partial x}(x_0,y_0)(x-x_0) + \\frac{\\partial F_y}{\\partial y}(x_0,y_0)(y-y_0) + o(x-x_0,y-y_0)$\n",
    "\n",
    "Nous conserverons cette approximation.\n",
    "\n",
    "Si on veut converger vers un point (x,y) qui annule F, nous tirons des deux lignes précédentes une relation: \n",
    "\n",
    "$\\begin{pmatrix}\n",
    "- F_x(x_0,y_0) \\\\\n",
    "- F_y(x_0,y_0)\n",
    "\\end{pmatrix}\n",
    "= J(x_0,y_0)\n",
    "\\begin{pmatrix}\n",
    "x_1 - x_0\\\\\n",
    "y_1-y_0\n",
    "\\end{pmatrix}\n",
    "$\n",
    "\n",
    "Puis par récurrence, nous obtenons la formule de l'algorithme de Newton généralisée en dimension 2:\n",
    "\n",
    "$\\begin{pmatrix}\n",
    "x_{n+1}\\\\\n",
    "y_{n+1}\n",
    "\\end{pmatrix}\n",
    "=\n",
    "\\begin{pmatrix}\n",
    "x_{n}\\\\\n",
    "y_{n}\n",
    "\\end{pmatrix}\n",
    "- J^{-1}(x_n,y_n)\n",
    "\\begin{pmatrix}\n",
    "F_x(x_n,y_n)\\\\\n",
    "F_y(x_n,y_n)\n",
    "\\end{pmatrix}\n",
    "$\n",
    "\n"
   ]
  },
  {
   "cell_type": "code",
   "execution_count": null,
   "metadata": {},
   "outputs": [],
   "source": [
    "#On construit la jacobienne de F en un point (x,y), en gardant en mémoire que l'on part de (w,z) donnés en argument\n",
    "\n",
    "    \n",
    "def Jacobienne_F(f,x,y):\n",
    "    j=autograd.jacobian\n",
    "    return np.c_[j(f,0)(x,y),j(f,1)(x,y)]\n",
    "\n",
    "\n",
    "#Normalise un vecteur en dimension 2\n",
    "def normalise_dim2(vecteur):\n",
    "    norme=sqrt(vecteur[1]**2+vecteur[0]**2) \n",
    "    return (1/norme)*vecteur \n",
    "#Tout est dans le titre   \n",
    "def prod_scalaire(a,b):\n",
    "    return a[0]*b[1]+a[1]*b[0]\n",
    "#Choisit la \"bonne\" direction vers laquelle chercher \n",
    "\n",
    "def choose_direction(f,x,y,pt_prec):\n",
    "    direction1=normalise_dim2(np.array([-grad(f,x,y)[1],grad(f,x,y)[0]]))\n",
    "    direction2=-direction1\n",
    "    if prod_scalaire(direction1,np.array([x-pt_prec[0],y-pt_prec[1]]))<=prod_scalaire(direction2,np.array([x-pt_prec[0],y-pt_prec[1]])):\n",
    "        return direction1\n",
    "    else:\n",
    "        return direction2\n",
    "    \n",
    "#Trouve le point suivant  \n",
    "\n",
    "def trouve_suivant(f,xi,yi,pt_prec,d,c,eps):\n",
    "\n",
    "    def F(x,y):\n",
    "        return np.array([f(x,y)-c,(x-xi)**2+(y-yi)**2-d**2])\n",
    "\n",
    "    (x,y)=(xi,yi)+choose_direction(f,xi,yi,pt_prec)*d\n",
    "\n",
    "    compteur=0 #compte le nombre d'itÃ©rations\n",
    "\n",
    "    while F(x,y)[0]**2+F(x,y)[1]**2 > eps**2 and compteur<100000:\n",
    "        J=Jacobienne_F(F,x,y)\n",
    "        try:\n",
    "            (x,y)=(x,y)-np.dot(np.linalg.inv(J),F(x,y))\n",
    "        except np.linalg.LinAlgError :\n",
    "            return (x,y)\n",
    "        compteur+=1\n",
    "\n",
    "    return (x,y)\n",
    "\n"
   ]
  },
  {
   "cell_type": "markdown",
   "metadata": {},
   "source": [
    "Nous sommes maintenant près à mettre en place le programme qui tracera le segment de ligne dans le carré. Notons que ce programme s'arretera quand on sera proche des côtés haut, doite et bas de la cellule (on part de sur le côté gauche, et l'on suppose que le découpage du plan est suffisement fin pourque la ligne de niveau de f ne coupe qu'une seule fois ce côté)."
   ]
  },
  {
   "cell_type": "markdown",
   "metadata": {},
   "source": [
    "Notons aussi qu'au départ du côté gauche du carré, il faut faire le saut vers l'intérieur de la cellule, d'où ces petits programmes spécifiques à la première recheche:"
   ]
  },
  {
   "cell_type": "code",
   "execution_count": null,
   "metadata": {},
   "outputs": [],
   "source": [
    "def choose_direction_init(f,x,y):\n",
    "    direction=normalise_dim2(np.array([-grad(f,x,y)[1],grad(f,x,y)[0]]))\n",
    "    if direction[0]>=0:\n",
    "        return direction\n",
    "    else:\n",
    "        return -direction\n",
    "    \n",
    "    \n",
    "def trouve_suivant_init(f,xi,yi,d,c,eps):\n",
    "    \n",
    "    def F(x,y):\n",
    "        return np.array([f(x,y)-c,(x-xi)**2+(y-yi)**2-d**2])\n",
    "    \n",
    "    (x,y)=(xi,yi)+choose_direction_init(f,xi,yi)*d         #ici est la seule modification: on utilise choose_direction_init\n",
    "    \n",
    "    compteur=0 \n",
    "\n",
    "    while F(x,y)[0]**2+F(x,y)[1]**2 > eps**2 and compteur<100000:\n",
    "        J=Jac(F,x,y)\n",
    "        try:\n",
    "            (x,y)=(x,y)-np.dot(np.linalg.inv(J),F(x,y))\n",
    "        except np.linalg.LinAlgError :\n",
    "            return (x,y)\n",
    "        compteur=1"
   ]
  },
  {
   "cell_type": "code",
   "execution_count": null,
   "metadata": {},
   "outputs": [],
   "source": [
    "def simple_contour(f,abs_x,ord_y,c=0.0,taille_cell=(1,1), eps=2**(-25)):\n",
    "    d=0.01*taille_cell[0]\n",
    "    X,Y=np.array([]),np.array([])\n",
    "    start_y=find_seed(f,abs_x,ord_y,taille_cell,c)\n",
    "\n",
    "    if isinstance(start_y,float):\n",
    "        X=np.append(X,abs_x)\n",
    "        Y=np.append(Y,start_y)\n",
    "        (xi,yi)=trouve_suivant_init(f,0.0,start_y,d,c,eps)\n",
    "        X=np.append(X,xi)\n",
    "        Y=np.append(Y,yi)\n",
    "        compteur=0\n",
    "        while xi>eps+abs_x and (abs_x+taille_cell[0]-eps)>xi and yi>eps+ord_y and (ord_y+taille_cell[1]-eps)>yi and compteur <10000:\n",
    "            pt_prec=np.array([X[-2],Y[-2]])\n",
    "            (xi,yi)=trouve_suivant(f,xi,yi,pt_prec,d,c,eps)\n",
    "            (f,xi,yi,pt_prec,d,c,eps)\n",
    "            X=np.append(X,xi)\n",
    "            Y=np.append(Y,yi)\n",
    "            compteur+=1\n",
    "        plt.plot(X,Y)\n",
    "        plt.show()\n",
    "    else:\n",
    "        return (X,X)"
   ]
  }
 ],
 "metadata": {
  "kernelspec": {
   "display_name": "Python 3",
   "language": "python",
   "name": "python3"
  },
  "language_info": {
   "codemirror_mode": {
    "name": "ipython",
    "version": 3
   },
   "file_extension": ".py",
   "mimetype": "text/x-python",
   "name": "python",
   "nbconvert_exporter": "python",
   "pygments_lexer": "ipython3",
   "version": "3.7.4"
  }
 },
 "nbformat": 4,
 "nbformat_minor": 2
}
